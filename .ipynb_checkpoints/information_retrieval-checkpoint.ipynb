{
 "cells": [
  {
   "cell_type": "markdown",
   "id": "c4e375c7-fa19-4f98-87bc-c5c2ead10986",
   "metadata": {},
   "source": [
    "# Noisy Information Retrieval\n",
    "### Sarang S Balan\n",
    "\n",
    "\n",
    "## Importing libraries and setting Google Drive access"
   ]
  },
  {
   "cell_type": "code",
   "execution_count": 1,
   "id": "e1889314-b8f5-4d83-8ca4-eaa5a2200367",
   "metadata": {},
   "outputs": [
    {
     "name": "stderr",
     "output_type": "stream",
     "text": [
      "PyTerrier 0.9.2 has loaded Terrier 5.7 (built by craigm on 2022-11-10 18:30) and terrier-helper 0.0.7\n",
      "\n"
     ]
    }
   ],
   "source": [
    "import pandas as pd\n",
    "import os\n",
    "os.environ[\"JAVA_HOME\"] = \"C:\\Program Files\\Java\\jdk-20\"\n",
    "import pyterrier as pt\n",
    "pt.init()\n",
    "import numpy as np \n",
    "import matplotlib.pyplot as plt\n",
    "import os\n",
    "import pickle\n",
    "\n",
    "name_dir=(\"G:/.shortcut-targets-by-id/1SdID4kNAE5y3MR2PuDXuCC8GfGQkihuW/IRDM\")\n"
   ]
  },
  {
   "cell_type": "markdown",
   "id": "120b8308-a8d1-4bd8-b0f7-bbe0223f4a56",
   "metadata": {},
   "source": [
    "## loading xmllist and creating index"
   ]
  },
  {
   "cell_type": "code",
   "execution_count": 2,
   "id": "7ae630cd-4de1-4b54-b457-8fb526547a7d",
   "metadata": {},
   "outputs": [],
   "source": [
    "with open('xmllist.pickle', 'rb') as file:\n",
    "    # Step 3: Load the data from the pickle file into a variable.\n",
    "    myxmllist = pickle.load(file)"
   ]
  },
  {
   "cell_type": "code",
   "execution_count": 29,
   "id": "bb0571c7-0785-4329-b0b2-924d7707091a",
   "metadata": {},
   "outputs": [],
   "source": [
    "\n",
    "indexer = pt.TRECCollectionIndexer(name_dir + \"/xml_dir/ind_3\",blocks=True,meta={'docno':50,'text': 2048,})\n",
    "\n",
    "#indexref = indexer.index(myxmllist)\n",
    "index_ref = pt.IndexRef.of(name_dir + \"/xml_dir/ind_3/data.properties\")\n",
    "\n",
    "index= pt.IndexFactory.of(index_ref)\n"
   ]
  },
  {
   "cell_type": "code",
   "execution_count": 12,
   "id": "c6edcf92-7110-47ec-80e6-1ce2b982a047",
   "metadata": {},
   "outputs": [
    {
     "name": "stdout",
     "output_type": "stream",
     "text": [
      "Number of documents: 3593829\n",
      "Number of terms: 209849\n",
      "Number of postings: 324936225\n",
      "Number of fields: 0\n",
      "Number of tokens: 500325872\n",
      "Field names: []\n",
      "Positions:   true\n",
      "\n"
     ]
    }
   ],
   "source": [
    "\n",
    "print(index.getCollectionStatistics())"
   ]
  },
  {
   "cell_type": "markdown",
   "id": "d459d3ba-98a9-4fd6-8942-ebf98a7df116",
   "metadata": {},
   "source": [
    "## Graphical analysis\n",
    "\n",
    "Let's see how many episodes have more than one topic associated with it"
   ]
  },
  {
   "cell_type": "code",
   "execution_count": 16,
   "id": "a85c9210-2505-49c3-83af-4bfcc91c41bd",
   "metadata": {},
   "outputs": [],
   "source": [
    "qrels_path=(name_dir + \"/podcasts_2020_test.qrels\")\n",
    "qrels = pt.io.read_qrels(qrels_path)\n",
    "\n",
    "\n",
    "df_sorted = qrels.sort_values(by=['docno', 'qid'], ascending=[True, True]) #Retrieves df of test topic dataset\n",
    "df_sorted['podcast'] = df_sorted['docno'].str[:36]  #Creating a column named Podcast, which is the first few chars of the episode column\n",
    "\n",
    "df_sorted = df_sorted[df_sorted['label'] != 0] #Removing all rows with a rating of bad\n",
    "df_sorted = df_sorted.reset_index()\n"
   ]
  },
  {
   "cell_type": "code",
   "execution_count": 17,
   "id": "878f1c79-6d89-466d-bde3-5d618dc630e5",
   "metadata": {},
   "outputs": [
    {
     "data": {
      "image/png": "[encoded data removed]",
      "text/plain": [
       "<Figure size 432x288 with 1 Axes>"
      ]
     },
     "metadata": {
      "needs_background": "light"
     },
     "output_type": "display_data"
    }
   ],
   "source": [
    "df_sorted = df_sorted[['podcast']] # Let's look at each individual podcast and a topic that it contains\n",
    "value_counts  = df_sorted.value_counts()\n",
    "\n",
    "\n",
    "\n",
    "# Get unique values and their respective counts\n",
    "unique_values, value_counts = np.unique(value_counts.values, return_counts=True)\n",
    "\n",
    "# Plotting the bar chart\n",
    "plt.bar(unique_values, value_counts)\n",
    "# Adding labels and title\n",
    "plt.xlabel('Podcasts with n relevant segments')\n",
    "plt.ylabel('Frequency')\n",
    "plt.title('Frequency of relevant segments in a podcast')\n",
    "# Setting x-axis ticks\n",
    "plt.xticks(range(0, 33))\n",
    "\n",
    "# Show the plot\n",
    "plt.show()"
   ]
  },
  {
   "cell_type": "markdown",
   "id": "6031bffa-cc00-46e2-8bf2-030c143d0041",
   "metadata": {},
   "source": [
    "Considering all episodes that have a rating of at least '1' or 'fair', approximately 70% of episodes only discuss one relevant topic/query, whilst 30% touches upon multiple topics"
   ]
  },
  {
   "cell_type": "markdown",
   "id": "203f8fc0-0aa0-4a11-b9ee-b4fa5c133adb",
   "metadata": {},
   "source": [
    "# Qualititative analysis\n",
    "\n",
    "The aim of this section is to investigate phenomena behind BM25 retrieval. The questions are as follows\n",
    "\n",
    "- Does a retrieval pull out both highly scored segments along with poorly scored ones (regardless of ranking) - Done ✓\n",
    "- Why are the highly scored segments ranked badly\n",
    "- Why are the low scored segments ranked well in BM25"
   ]
  },
  {
   "cell_type": "markdown",
   "id": "c8ffe9c1-6328-45fd-90ed-dd0e08eada58",
   "metadata": {},
   "source": [
    "### Does retrieval pull out all results"
   ]
  },
  {
   "cell_type": "markdown",
   "id": "cd6ba8df-881c-47b8-bd72-358f6dd42d0f",
   "metadata": {},
   "source": [
    "First let's run the normal code for Bm25 and Pl2, see how the metrics fare"
   ]
  },
  {
   "cell_type": "code",
   "execution_count": 19,
   "id": "53034353-f2d0-4c22-b2ad-e7f53eef75da",
   "metadata": {},
   "outputs": [],
   "source": [
    "id_template = 'spotify:episode:{}_{}'\n",
    "def get_ep(a,b):\n",
    "  return id_template.format(a,b)"
   ]
  },
  {
   "cell_type": "code",
   "execution_count": 72,
   "id": "80d4f7c6-6970-45f6-a75a-ce9dbb0db4e5",
   "metadata": {},
   "outputs": [
    {
     "name": "stdout",
     "output_type": "stream",
     "text": [
      "BM25\n",
      "{'map': 0.2083922155205382, 'ndcg': 0.40396705432032354, 'ndcg_cut_30': 0.2730335289618099, 'P_10': 0.3625}\n",
      "PL 2 \n",
      "{'map': 0.22161891651584797, 'ndcg': 0.4259666693266723, 'ndcg_cut_30': 0.2820225728886583, 'P_10': 0.36250000000000004}\n"
     ]
    }
   ],
   "source": [
    "topics = pt.io.read_topics(name_dir + \"/topic01.xml\",format=\"trecxml\")\n",
    "bm25 = pt.BatchRetrieve(index, controls={\"wmodel\":\"BM25\"}, metadata=[\"docno\",'text'])\n",
    "pl2= pt.BatchRetrieve(index, controls={\"wmodel\": \"PL2\",\"c\":20},metadata=[\"docno\",'text'])\n",
    "\n",
    "\n",
    "id_template = 'spotify:episode:{}_{}'\n",
    "res=bm25.transform(topics)\n",
    "res_2=pl2.transform(topics)\n",
    "df = pd.DataFrame(res, columns=['qid', 'rank', 'docno', 'score'])\n",
    "df_2=pd.DataFrame(res_2, columns=['qid', 'rank', 'docno', 'score'])\n",
    "df[\"ep_id\"]=df[\"docno\"].apply(lambda x: x.split(\"_\")[1].split(\"-\")[0])\n",
    "df[\"episode\"]=df[\"docno\"].apply(lambda x: x.split(\"_\")[0])\n",
    "df[\"docno\"]=df.apply(lambda x: get_ep(x[\"episode\"],x[\"ep_id\"]),axis=1)\n",
    "df[\"docno\"]=df[\"docno\"]+\".0\"\n",
    "rsl=df[[\"qid\",\"docno\",\"rank\",\"score\"]]\n",
    "df_2[\"ep_id\"]=df_2[\"docno\"].apply(lambda x: x.split(\"_\")[1].split(\"-\")[0])\n",
    "df_2[\"episode\"]=df_2[\"docno\"].apply(lambda x: x.split(\"_\")[0])\n",
    "df_2[\"docno\"]=df_2.apply(lambda x: get_ep(x[\"episode\"],x[\"ep_id\"]),axis=1)\n",
    "df_2[\"docno\"]=df_2[\"docno\"]+\".0\"\n",
    "\n",
    "rsl=df[[\"qid\",\"docno\",\"rank\",\"score\"]]\n",
    "\n",
    "rsl_2=df_2[[\"qid\",\"docno\",\"rank\",\"score\"]]\n",
    "\n",
    "\n",
    "qrels_path=(name_dir + \"/podcasts_2020_train.1-8.qrels\")\n",
    "qrels = pt.io.read_qrels(qrels_path)\n",
    "\n",
    "print(\"BM25\")\n",
    "print(pt.Utils.evaluate(rsl,qrels,metrics=['map',\"ndcg\",\"ndcg_cut_30\",\"P_10\"]))\n",
    "print(\"PL 2 \")\n",
    "print(pt.Utils.evaluate(rsl_2,qrels,metrics=['map',\"ndcg\",\"ndcg_cut_30\",\"P_10\"]))"
   ]
  },
  {
   "cell_type": "markdown",
   "id": "74afd035-bcb3-44e0-b402-10f3edfa5e00",
   "metadata": {},
   "source": [
    "We can see it's lower than what baseline scores in the literature are indicating. Now let's manually compare the dataframes used to compute these scores and see if the actually assessor scored segments even make it into the final retrieval by BM25"
   ]
  },
  {
   "cell_type": "code",
   "execution_count": 86,
   "id": "c9c54932-109e-41e5-bcac-c61bbb551296",
   "metadata": {},
   "outputs": [
    {
     "data": {
      "text/plain": [
       "37"
      ]
     },
     "execution_count": 86,
     "metadata": {},
     "output_type": "execute_result"
    }
   ],
   "source": [
    "qrels_wo_0 = qrels[qrels['label'] > 2]\n",
    "len(qrels_wo_0)"
   ]
  },
  {
   "cell_type": "code",
   "execution_count": 95,
   "id": "a2c2997b-2f78-43bb-a607-bad64e147ed8",
   "metadata": {},
   "outputs": [
    {
     "data": {
      "text/html": [
       "<div>\n",
       "<style scoped>\n",
       "    .dataframe tbody tr th:only-of-type {\n",
       "        vertical-align: middle;\n",
       "    }\n",
       "\n",
       "    .dataframe tbody tr th {\n",
       "        vertical-align: top;\n",
       "    }\n",
       "\n",
       "    .dataframe thead th {\n",
       "        text-align: right;\n",
       "    }\n",
       "</style>\n",
       "<table border=\"1\" class=\"dataframe\">\n",
       "  <thead>\n",
       "    <tr style=\"text-align: right;\">\n",
       "      <th></th>\n",
       "      <th>qid</th>\n",
       "      <th>rank</th>\n",
       "      <th>docno</th>\n",
       "      <th>score</th>\n",
       "      <th>ep_id</th>\n",
       "      <th>episode</th>\n",
       "    </tr>\n",
       "  </thead>\n",
       "  <tbody>\n",
       "    <tr>\n",
       "      <th>0</th>\n",
       "      <td>1</td>\n",
       "      <td>0</td>\n",
       "      <td>spotify:episode:1t6qb1pD2AfVVjyLn1Wisr_240.0</td>\n",
       "      <td>22.856113</td>\n",
       "      <td>240</td>\n",
       "      <td>1t6qb1pD2AfVVjyLn1Wisr</td>\n",
       "    </tr>\n",
       "    <tr>\n",
       "      <th>1</th>\n",
       "      <td>1</td>\n",
       "      <td>1</td>\n",
       "      <td>spotify:episode:6qbgrdPtRuEAvaOUfOdYMY_900.0</td>\n",
       "      <td>22.032202</td>\n",
       "      <td>900</td>\n",
       "      <td>6qbgrdPtRuEAvaOUfOdYMY</td>\n",
       "    </tr>\n",
       "    <tr>\n",
       "      <th>2</th>\n",
       "      <td>1</td>\n",
       "      <td>2</td>\n",
       "      <td>spotify:episode:3tjC7pqnSnH6CKgikJc6kz_180.0</td>\n",
       "      <td>21.591270</td>\n",
       "      <td>180</td>\n",
       "      <td>3tjC7pqnSnH6CKgikJc6kz</td>\n",
       "    </tr>\n",
       "    <tr>\n",
       "      <th>3</th>\n",
       "      <td>1</td>\n",
       "      <td>3</td>\n",
       "      <td>spotify:episode:2tJJuf3cRuHpsCrEEZqshR_0.0</td>\n",
       "      <td>20.900538</td>\n",
       "      <td>0</td>\n",
       "      <td>2tJJuf3cRuHpsCrEEZqshR</td>\n",
       "    </tr>\n",
       "    <tr>\n",
       "      <th>4</th>\n",
       "      <td>1</td>\n",
       "      <td>4</td>\n",
       "      <td>spotify:episode:3tjC7pqnSnH6CKgikJc6kz_120.0</td>\n",
       "      <td>20.899609</td>\n",
       "      <td>120</td>\n",
       "      <td>3tjC7pqnSnH6CKgikJc6kz</td>\n",
       "    </tr>\n",
       "    <tr>\n",
       "      <th>...</th>\n",
       "      <td>...</td>\n",
       "      <td>...</td>\n",
       "      <td>...</td>\n",
       "      <td>...</td>\n",
       "      <td>...</td>\n",
       "      <td>...</td>\n",
       "    </tr>\n",
       "    <tr>\n",
       "      <th>7995</th>\n",
       "      <td>8</td>\n",
       "      <td>995</td>\n",
       "      <td>spotify:episode:6vfnLPFAzq7TZKnTea2aE2_2520.0</td>\n",
       "      <td>12.255983</td>\n",
       "      <td>2520</td>\n",
       "      <td>6vfnLPFAzq7TZKnTea2aE2</td>\n",
       "    </tr>\n",
       "    <tr>\n",
       "      <th>7996</th>\n",
       "      <td>8</td>\n",
       "      <td>996</td>\n",
       "      <td>spotify:episode:4T3DjQtVZKseJEvMVECJdr_960.0</td>\n",
       "      <td>12.254095</td>\n",
       "      <td>960</td>\n",
       "      <td>4T3DjQtVZKseJEvMVECJdr</td>\n",
       "    </tr>\n",
       "    <tr>\n",
       "      <th>7997</th>\n",
       "      <td>8</td>\n",
       "      <td>997</td>\n",
       "      <td>spotify:episode:3p4123QzH9cngTKkDfeMZK_1680.0</td>\n",
       "      <td>12.250876</td>\n",
       "      <td>1680</td>\n",
       "      <td>3p4123QzH9cngTKkDfeMZK</td>\n",
       "    </tr>\n",
       "    <tr>\n",
       "      <th>7998</th>\n",
       "      <td>8</td>\n",
       "      <td>998</td>\n",
       "      <td>spotify:episode:7olPUBi8PSNYe7gcxqSXk2_3120.0</td>\n",
       "      <td>12.250749</td>\n",
       "      <td>3120</td>\n",
       "      <td>7olPUBi8PSNYe7gcxqSXk2</td>\n",
       "    </tr>\n",
       "    <tr>\n",
       "      <th>7999</th>\n",
       "      <td>8</td>\n",
       "      <td>999</td>\n",
       "      <td>spotify:episode:1Jikd0xspLVluTaYJWftMX_2040.0</td>\n",
       "      <td>12.245496</td>\n",
       "      <td>2040</td>\n",
       "      <td>1Jikd0xspLVluTaYJWftMX</td>\n",
       "    </tr>\n",
       "  </tbody>\n",
       "</table>\n",
       "<p>8000 rows × 6 columns</p>\n",
       "</div>"
      ],
      "text/plain": [
       "     qid  rank                                          docno      score  \\\n",
       "0      1     0   spotify:episode:1t6qb1pD2AfVVjyLn1Wisr_240.0  22.856113   \n",
       "1      1     1   spotify:episode:6qbgrdPtRuEAvaOUfOdYMY_900.0  22.032202   \n",
       "2      1     2   spotify:episode:3tjC7pqnSnH6CKgikJc6kz_180.0  21.591270   \n",
       "3      1     3     spotify:episode:2tJJuf3cRuHpsCrEEZqshR_0.0  20.900538   \n",
       "4      1     4   spotify:episode:3tjC7pqnSnH6CKgikJc6kz_120.0  20.899609   \n",
       "...   ..   ...                                            ...        ...   \n",
       "7995   8   995  spotify:episode:6vfnLPFAzq7TZKnTea2aE2_2520.0  12.255983   \n",
       "7996   8   996   spotify:episode:4T3DjQtVZKseJEvMVECJdr_960.0  12.254095   \n",
       "7997   8   997  spotify:episode:3p4123QzH9cngTKkDfeMZK_1680.0  12.250876   \n",
       "7998   8   998  spotify:episode:7olPUBi8PSNYe7gcxqSXk2_3120.0  12.250749   \n",
       "7999   8   999  spotify:episode:1Jikd0xspLVluTaYJWftMX_2040.0  12.245496   \n",
       "\n",
       "     ep_id                 episode  \n",
       "0      240  1t6qb1pD2AfVVjyLn1Wisr  \n",
       "1      900  6qbgrdPtRuEAvaOUfOdYMY  \n",
       "2      180  3tjC7pqnSnH6CKgikJc6kz  \n",
       "3        0  2tJJuf3cRuHpsCrEEZqshR  \n",
       "4      120  3tjC7pqnSnH6CKgikJc6kz  \n",
       "...    ...                     ...  \n",
       "7995  2520  6vfnLPFAzq7TZKnTea2aE2  \n",
       "7996   960  4T3DjQtVZKseJEvMVECJdr  \n",
       "7997  1680  3p4123QzH9cngTKkDfeMZK  \n",
       "7998  3120  7olPUBi8PSNYe7gcxqSXk2  \n",
       "7999  2040  1Jikd0xspLVluTaYJWftMX  \n",
       "\n",
       "[8000 rows x 6 columns]"
      ]
     },
     "execution_count": 95,
     "metadata": {},
     "output_type": "execute_result"
    }
   ],
   "source": [
    "df_2"
   ]
  },
  {
   "cell_type": "code",
   "execution_count": 85,
   "id": "e58a67b4-62bd-4f14-9632-b6efca4c9d46",
   "metadata": {},
   "outputs": [
    {
     "name": "stdout",
     "output_type": "stream",
     "text": [
      "False\n"
     ]
    },
    {
     "data": {
      "text/plain": [
       "7"
      ]
     },
     "execution_count": 85,
     "metadata": {},
     "output_type": "execute_result"
    }
   ],
   "source": [
    "\n",
    "\n",
    "# Check if col2 is a subset of col1\n",
    "is_subset = set_col2.issubset(set_col1)\n",
    "print(is_subset)\n",
    "\n",
    "\n",
    "# Find items in smaller_col that are not in bigger_col\n",
    "items_not_in_bigger_col = [item for item in set_col2 if item not in set_col1]\n",
    "len(items_not_in_bigger_col)"
   ]
  },
  {
   "cell_type": "markdown",
   "id": "b65e9df1-2073-4169-88a8-8801778f6a79",
   "metadata": {},
   "source": [
    "We see that some segments do indeed do not make it to the final top 1000 ranking, based on the full index of 3.5 million segments that were analysed using BM25. Let's see how that varies within the different labels"
   ]
  },
  {
   "cell_type": "code",
   "execution_count": 98,
   "id": "0da9f7fa-3455-4d0b-85af-805333a3a2b0",
   "metadata": {},
   "outputs": [
    {
     "name": "stdout",
     "output_type": "stream",
     "text": [
      "Analysing BM25 retrieval\n",
      "for labelled segment scores greater than 0 : 48 out of 217 segments not retrieved\n",
      "for labelled segment scores greater than 1 : 27 out of 141 segments not retrieved\n",
      "for labelled segment scores greater than 2 : 7 out of 37 segments not retrieved\n",
      "for labelled segment scores greater than 3 : 2 out of 2 segments not retrieved\n"
     ]
    }
   ],
   "source": [
    "print('Analysing BM25 retrieval')\n",
    "for num in range(4):\n",
    "    qrels_wo_0 = qrels[qrels['label'] > num]\n",
    "    set_col1 = set(df['docno'])\n",
    "    set_col2 = set(qrels_wo_0['docno'])wdwd\n",
    "\n",
    "    # Find items in smaller_col that are not in bigger_col\n",
    "    items_not_in_bigger_col = [item for item in set_col2 if item not in set_col1]\n",
    "    print(\"for labelled segment scores greater than \" + str(num)+ \" : \" + str(len(items_not_in_bigger_col)) + \" out of \" + str(len(qrels_wo_0)) + \" segments not retrieved\")\n",
    "    "
   ]
  },
  {
   "cell_type": "code",
   "execution_count": 99,
   "id": "40e7b77d-533a-47d8-a920-efcc9bc663f0",
   "metadata": {},
   "outputs": [
    {
     "name": "stdout",
     "output_type": "stream",
     "text": [
      "Analysing PL2 retrieval\n",
      "for labelled segment scores greater than 0 : 43 out of 217 segments not retrieved\n",
      "for labelled segment scores greater than 1 : 23 out of 141 segments not retrieved\n",
      "for labelled segment scores greater than 2 : 4 out of 37 segments not retrieved\n",
      "for labelled segment scores greater than 3 : 1 out of 2 segments not retrieved\n"
     ]
    }
   ],
   "source": [
    "print('Analysing PL2 retrieval')\n",
    "for num in range(4):\n",
    "    qrels_wo_0 = qrels[qrels['label'] > num]\n",
    "    set_col1 = set(df_2['docno'])\n",
    "    set_col2 = set(qrels_wo_0['docno'])\n",
    "\n",
    "    # Find items in smaller_col that are not in bigger_col\n",
    "    items_not_in_bigger_col = [item for item in set_col2 if item not in set_col1]\n",
    "    print(\"for labelled segment scores greater than \" + str(num)+ \" : \" + str(len(items_not_in_bigger_col)) + \" out of \" + str(len(qrels_wo_0)) + \" segments not retrieved\")\n",
    "    "
   ]
  },
  {
   "cell_type": "code",
   "execution_count": null,
   "id": "430f86d2-2c08-4310-b173-bbff48813423",
   "metadata": {},
   "outputs": [],
   "source": []
  }
 ],
 "metadata": {
  "kernelspec": {
   "display_name": "Python 3 (ipykernel)",
   "language": "python",
   "name": "python3"
  },
  "language_info": {
   "codemirror_mode": {
    "name": "ipython",
    "version": 3
   },
   "file_extension": ".py",
   "mimetype": "text/x-python",
   "name": "python",
   "nbconvert_exporter": "python",
   "pygments_lexer": "ipython3",
   "version": "3.10.12"
  }
 },
 "nbformat": 4,
 "nbformat_minor": 5
}
